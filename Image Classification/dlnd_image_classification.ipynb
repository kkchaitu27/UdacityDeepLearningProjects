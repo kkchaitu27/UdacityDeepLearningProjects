{
 "cells": [
  {
   "cell_type": "markdown",
   "metadata": {
    "collapsed": true
   },
   "source": [
    "# Image Classification\n",
    "In this project, you'll classify images from the [CIFAR-10 dataset](https://www.cs.toronto.edu/~kriz/cifar.html).  The dataset consists of airplanes, dogs, cats, and other objects. You'll preprocess the images, then train a convolutional neural network on all the samples. The images need to be normalized and the labels need to be one-hot encoded.  You'll get to apply what you learned and build a convolutional, max pooling, dropout, and fully connected layers.  At the end, you'll get to see your neural network's predictions on the sample images.\n",
    "## Get the Data\n",
    "Run the following cell to download the [CIFAR-10 dataset for python](https://www.cs.toronto.edu/~kriz/cifar-10-python.tar.gz)."
   ]
  },
  {
   "cell_type": "code",
   "execution_count": 1,
   "metadata": {
    "collapsed": false
   },
   "outputs": [
    {
     "name": "stdout",
     "output_type": "stream",
     "text": [
      "All files found!\n"
     ]
    }
   ],
   "source": [
    "\"\"\"\n",
    "DON'T MODIFY ANYTHING IN THIS CELL THAT IS BELOW THIS LINE\n",
    "\"\"\"\n",
    "from urllib.request import urlretrieve\n",
    "from os.path import isfile, isdir\n",
    "from tqdm import tqdm\n",
    "import problem_unittests as tests\n",
    "import tarfile\n",
    "\n",
    "cifar10_dataset_folder_path = 'cifar-10-batches-py'\n",
    "\n",
    "class DLProgress(tqdm):\n",
    "    last_block = 0\n",
    "\n",
    "    def hook(self, block_num=1, block_size=1, total_size=None):\n",
    "        self.total = total_size\n",
    "        self.update((block_num - self.last_block) * block_size)\n",
    "        self.last_block = block_num\n",
    "\n",
    "if not isfile('cifar-10-python.tar.gz'):\n",
    "    with DLProgress(unit='B', unit_scale=True, miniters=1, desc='CIFAR-10 Dataset') as pbar:\n",
    "        urlretrieve(\n",
    "            'https://www.cs.toronto.edu/~kriz/cifar-10-python.tar.gz',\n",
    "            'cifar-10-python.tar.gz',\n",
    "            pbar.hook)\n",
    "\n",
    "if not isdir(cifar10_dataset_folder_path):\n",
    "    with tarfile.open('cifar-10-python.tar.gz') as tar:\n",
    "        tar.extractall()\n",
    "        tar.close()\n",
    "\n",
    "\n",
    "tests.test_folder_path(cifar10_dataset_folder_path)"
   ]
  },
  {
   "cell_type": "markdown",
   "metadata": {},
   "source": [
    "## Explore the Data\n",
    "The dataset is broken into batches to prevent your machine from running out of memory.  The CIFAR-10 dataset consists of 5 batches, named `data_batch_1`, `data_batch_2`, etc.. Each batch contains the labels and images that are one of the following:\n",
    "* airplane\n",
    "* automobile\n",
    "* bird\n",
    "* cat\n",
    "* deer\n",
    "* dog\n",
    "* frog\n",
    "* horse\n",
    "* ship\n",
    "* truck\n",
    "\n",
    "Understanding a dataset is part of making predictions on the data.  Play around with the code cell below by changing the `batch_id` and `sample_id`. The `batch_id` is the id for a batch (1-5). The `sample_id` is the id for a image and label pair in the batch.\n",
    "\n",
    "Ask yourself \"What are all possible labels?\", \"What is the range of values for the image data?\", \"Are the labels in order or random?\".  Answers to questions like these will help you preprocess the data and end up with better predictions."
   ]
  },
  {
   "cell_type": "code",
   "execution_count": 2,
   "metadata": {
    "collapsed": false
   },
   "outputs": [
    {
     "name": "stdout",
     "output_type": "stream",
     "text": [
      "\n",
      "Stats of batch 1:\n",
      "Samples: 10000\n",
      "Label Counts: {0: 1005, 1: 974, 2: 1032, 3: 1016, 4: 999, 5: 937, 6: 1030, 7: 1001, 8: 1025, 9: 981}\n",
      "First 20 Labels: [6, 9, 9, 4, 1, 1, 2, 7, 8, 3, 4, 7, 7, 2, 9, 9, 9, 3, 2, 6]\n",
      "\n",
      "Example of Image 5:\n",
      "Image - Min Value: 0 Max Value: 252\n",
      "Image - Shape: (32, 32, 3)\n",
      "Label - Label Id: 1 Name: automobile\n"
     ]
    },
    {
     "data": {
      "image/png": "[encoded data removed]",
      "text/plain": [
       "<matplotlib.figure.Figure at 0x7f78dd4705c0>"
      ]
     },
     "metadata": {
      "image/png": {
       "height": 250,
       "width": 253
      }
     },
     "output_type": "display_data"
    }
   ],
   "source": [
    "%matplotlib inline\n",
    "%config InlineBackend.figure_format = 'retina'\n",
    "\n",
    "import helper\n",
    "import numpy as np\n",
    "\n",
    "# Explore the dataset\n",
    "batch_id = 1\n",
    "sample_id = 5\n",
    "helper.display_stats(cifar10_dataset_folder_path, batch_id, sample_id)"
   ]
  },
  {
   "cell_type": "markdown",
   "metadata": {},
   "source": [
    "## Implement Preprocess Functions\n",
    "### Normalize\n",
    "In the cell below, implement the `normalize` function to take in image data, `x`, and return it as a normalized Numpy array. The values should be in the range of 0 to 1, inclusive.  The return object should be the same shape as `x`."
   ]
  },
  {
   "cell_type": "code",
   "execution_count": 3,
   "metadata": {
    "collapsed": false
   },
   "outputs": [
    {
     "name": "stdout",
     "output_type": "stream",
     "text": [
      "Tests Passed\n"
     ]
    }
   ],
   "source": [
    "def normalize(x):\n",
    "    \"\"\"\n",
    "    Normalize a list of sample image data in the range of 0 to 1\n",
    "    : x: List of image data.  The image shape is (32, 32, 3)\n",
    "    : return: Numpy array of normalize data\n",
    "    \"\"\"\n",
    "    # TODO: Implement Function\n",
    "    data = np.array(x)\n",
    "    data_min = data.min(axis=(1,2),keepdims=True)\n",
    "    data_max = data.max(axis=(1,2),keepdims=True)\n",
    "    data_norm = (data-data_min)/(data_max-data_min)\n",
    "    return data_norm\n",
    "\n",
    "\n",
    "\"\"\"\n",
    "DON'T MODIFY ANYTHING IN THIS CELL THAT IS BELOW THIS LINE\n",
    "\"\"\"\n",
    "tests.test_normalize(normalize)"
   ]
  },
  {
   "cell_type": "markdown",
   "metadata": {},
   "source": [
    "### One-hot encode\n",
    "Just like the previous code cell, you'll be implementing a function for preprocessing.  This time, you'll implement the `one_hot_encode` function. The input, `x`, are a list of labels.  Implement the function to return the list of labels as One-Hot encoded Numpy array.  The possible values for labels are 0 to 9. The one-hot encoding function should return the same encoding for each value between each call to `one_hot_encode`.  Make sure to save the map of encodings outside the function.\n",
    "\n",
    "Hint: Don't reinvent the wheel."
   ]
  },
  {
   "cell_type": "code",
   "execution_count": 4,
   "metadata": {
    "collapsed": false
   },
   "outputs": [
    {
     "name": "stdout",
     "output_type": "stream",
     "text": [
      "Tests Passed\n"
     ]
    }
   ],
   "source": [
    "label_code_map = {0:0,1:1,2:2,3:3,4:4,5:5,6:6,7:7,8:8,9:9}\n",
    "def one_hot_encode(x):\n",
    "    \"\"\"\n",
    "    One hot encode a list of sample labels. Return a one-hot encoded vector for each label.\n",
    "    : x: List of sample Labels\n",
    "    : return: Numpy array of one-hot encoded labels\n",
    "    \"\"\"\n",
    "    # TODO: Implement Function\n",
    "    coded_data = [label_code_map[i] for i in x]\n",
    "    one_hot_encoded_data = np.zeros(shape=(len(coded_data), 10))\n",
    "    one_hot_encoded_data[np.arange(len(coded_data)), coded_data] = 1\n",
    "    return one_hot_encoded_data\n",
    "\n",
    "\n",
    "\"\"\"\n",
    "DON'T MODIFY ANYTHING IN THIS CELL THAT IS BELOW THIS LINE\n",
    "\"\"\"\n",
    "tests.test_one_hot_encode(one_hot_encode)"
   ]
  },
  {
   "cell_type": "markdown",
   "metadata": {},
   "source": [
    "### Randomize Data\n",
    "As you saw from exploring the data above, the order of the samples are randomized.  It doesn't hurt to randomize it again, but you don't need to for this dataset."
   ]
  },
  {
   "cell_type": "markdown",
   "metadata": {},
   "source": [
    "## Preprocess all the data and save it\n",
    "Running the code cell below will preprocess all the CIFAR-10 data and save it to file. The code below also uses 10% of the training data for validation."
   ]
  },
  {
   "cell_type": "code",
   "execution_count": 5,
   "metadata": {
    "collapsed": false
   },
   "outputs": [],
   "source": [
    "\"\"\"\n",
    "DON'T MODIFY ANYTHING IN THIS CELL\n",
    "\"\"\"\n",
    "# Preprocess Training, Validation, and Testing Data\n",
    "helper.preprocess_and_save_data(cifar10_dataset_folder_path, normalize, one_hot_encode)"
   ]
  },
  {
   "cell_type": "markdown",
   "metadata": {},
   "source": [
    "# Check Point\n",
    "This is your first checkpoint.  If you ever decide to come back to this notebook or have to restart the notebook, you can start from here.  The preprocessed data has been saved to disk."
   ]
  },
  {
   "cell_type": "code",
   "execution_count": 6,
   "metadata": {
    "collapsed": true
   },
   "outputs": [],
   "source": [
    "\"\"\"\n",
    "DON'T MODIFY ANYTHING IN THIS CELL\n",
    "\"\"\"\n",
    "import pickle\n",
    "import problem_unittests as tests\n",
    "import helper\n",
    "\n",
    "# Load the Preprocessed Validation data\n",
    "valid_features, valid_labels = pickle.load(open('preprocess_validation.p', mode='rb'))"
   ]
  },
  {
   "cell_type": "markdown",
   "metadata": {},
   "source": [
    "## Build the network\n",
    "For the neural network, you'll build each layer into a function.  Most of the code you've seen has been outside of functions. To test your code more thoroughly, we require that you put each layer in a function.  This allows us to give you better feedback and test for simple mistakes using our unittests before you submit your project.\n",
    "\n",
    "If you're finding it hard to dedicate enough time for this course a week, we've provided a small shortcut to this part of the project. In the next couple of problems, you'll have the option to use [TensorFlow Layers](https://www.tensorflow.org/api_docs/python/tf/layers) or [TensorFlow Layers (contrib)](https://www.tensorflow.org/api_guides/python/contrib.layers) to build each layer, except \"Convolutional & Max Pooling\" layer.  TF Layers is similar to Keras's and TFLearn's abstraction to layers, so it's easy to pickup.\n",
    "\n",
    "If you would like to get the most of this course, try to solve all the problems without TF Layers.  Let's begin!\n",
    "### Input\n",
    "The neural network needs to read the image data, one-hot encoded labels, and dropout keep probability. Implement the following functions\n",
    "* Implement `neural_net_image_input`\n",
    " * Return a [TF Placeholder](https://www.tensorflow.org/api_docs/python/tf/placeholder)\n",
    " * Set the shape using `image_shape` with batch size set to `None`.\n",
    " * Name the TensorFlow placeholder \"x\" using the TensorFlow `name` parameter in the [TF Placeholder](https://www.tensorflow.org/api_docs/python/tf/placeholder).\n",
    "* Implement `neural_net_label_input`\n",
    " * Return a [TF Placeholder](https://www.tensorflow.org/api_docs/python/tf/placeholder)\n",
    " * Set the shape using `n_classes` with batch size set to `None`.\n",
    " * Name the TensorFlow placeholder \"y\" using the TensorFlow `name` parameter in the [TF Placeholder](https://www.tensorflow.org/api_docs/python/tf/placeholder).\n",
    "* Implement `neural_net_keep_prob_input`\n",
    " * Return a [TF Placeholder](https://www.tensorflow.org/api_docs/python/tf/placeholder) for dropout keep probability.\n",
    " * Name the TensorFlow placeholder \"keep_prob\" using the TensorFlow `name` parameter in the [TF Placeholder](https://www.tensorflow.org/api_docs/python/tf/placeholder).\n",
    "\n",
    "These names will be used at the end of the project to load your saved model.\n",
    "\n",
    "Note: `None` for shapes in TensorFlow allow for a dynamic size."
   ]
  },
  {
   "cell_type": "code",
   "execution_count": 7,
   "metadata": {
    "collapsed": false
   },
   "outputs": [
    {
     "name": "stdout",
     "output_type": "stream",
     "text": [
      "Image Input Tests Passed.\n",
      "Label Input Tests Passed.\n",
      "Keep Prob Tests Passed.\n"
     ]
    }
   ],
   "source": [
    "import tensorflow as tf\n",
    "\n",
    "def neural_net_image_input(image_shape):\n",
    "    \"\"\"\n",
    "    Return a Tensor for a bach of image input\n",
    "    : image_shape: Shape of the images\n",
    "    : return: Tensor for image input.\n",
    "    \"\"\"\n",
    "    # TODO: Implement Function\n",
    "    return tf.placeholder(tf.float32, shape=(None, image_shape[0],image_shape[1],image_shape[2]),name = \"x\")\n",
    "\n",
    "\n",
    "def neural_net_label_input(n_classes):\n",
    "    \"\"\"\n",
    "    Return a Tensor for a batch of label input\n",
    "    : n_classes: Number of classes\n",
    "    : return: Tensor for label input.\n",
    "    \"\"\"\n",
    "    # TODO: Implement Function\n",
    "    return tf.placeholder(tf.float32, shape=(None, n_classes), name = \"y\")\n",
    "\n",
    "\n",
    "def neural_net_keep_prob_input():\n",
    "    \"\"\"\n",
    "    Return a Tensor for keep probability\n",
    "    : return: Tensor for keep probability.\n",
    "    \"\"\"\n",
    "    # TODO: Implement Function\n",
    "    return tf.placeholder(tf.float32,name = \"keep_prob\")\n",
    "\n",
    "\n",
    "\"\"\"\n",
    "DON'T MODIFY ANYTHING IN THIS CELL THAT IS BELOW THIS LINE\n",
    "\"\"\"\n",
    "tf.reset_default_graph()\n",
    "tests.test_nn_image_inputs(neural_net_image_input)\n",
    "tests.test_nn_label_inputs(neural_net_label_input)\n",
    "tests.test_nn_keep_prob_inputs(neural_net_keep_prob_input)"
   ]
  },
  {
   "cell_type": "markdown",
   "metadata": {},
   "source": [
    "### Convolution and Max Pooling Layer\n",
    "Convolution layers have a lot of success with images. For this code cell, you should implement the function `conv2d_maxpool` to apply convolution then max pooling:\n",
    "* Create the weight and bias using `conv_ksize`, `conv_num_outputs` and the shape of `x_tensor`.\n",
    "* Apply a convolution to `x_tensor` using weight and `conv_strides`.\n",
    " * We recommend you use same padding, but you're welcome to use any padding.\n",
    "* Add bias\n",
    "* Add a nonlinear activation to the convolution.\n",
    "* Apply Max Pooling using `pool_ksize` and `pool_strides`.\n",
    " * We recommend you use same padding, but you're welcome to use any padding.\n",
    "\n",
    "Note: You **can't** use [TensorFlow Layers](https://www.tensorflow.org/api_docs/python/tf/layers) or [TensorFlow Layers (contrib)](https://www.tensorflow.org/api_guides/python/contrib.layers) for this layer.  You're free to use any TensorFlow package for all the other layers."
   ]
  },
  {
   "cell_type": "code",
   "execution_count": 8,
   "metadata": {
    "collapsed": false
   },
   "outputs": [
    {
     "name": "stdout",
     "output_type": "stream",
     "text": [
      "Tests Passed\n"
     ]
    }
   ],
   "source": [
    "def conv2d_maxpool(x_tensor, conv_num_outputs, conv_ksize, conv_strides, pool_ksize, pool_strides):\n",
    "    \"\"\"\n",
    "    Apply convolution then max pooling to x_tensor\n",
    "    :param x_tensor: TensorFlow Tensor\n",
    "    :param conv_num_outputs: Number of outputs for the convolutional layer\n",
    "    :param conv_strides: Stride 2-D Tuple for convolution\n",
    "    :param pool_ksize: kernal size 2-D Tuple for pool\n",
    "    :param pool_strides: Stride 2-D Tuple for pool\n",
    "    : return: A tensor that represents convolution and max pooling of x_tensor\n",
    "    \"\"\"\n",
    "    # TODO: Implement Function\n",
    "    width = x_tensor.get_shape().as_list()[1]\n",
    "    height = x_tensor.get_shape().as_list()[2]\n",
    "    depth = x_tensor.get_shape().as_list()[3]\n",
    "    filter_size_width = conv_ksize[0]\n",
    "    filter_size_height = conv_ksize[1]\n",
    "    stride_horizontal = conv_strides[0]\n",
    "    stride_vertical = conv_strides[1]\n",
    "    weight = tf.Variable(tf.truncated_normal([filter_size_height, filter_size_width, depth, conv_num_outputs],mean=0.0,stddev=0.08))\n",
    "    bias = tf.Variable(tf.zeros(conv_num_outputs))\n",
    "    \n",
    "    # Apply Convolution\n",
    "    conv_layer = tf.nn.conv2d(x_tensor, weight, strides=[1, stride_horizontal, stride_vertical, 1], padding='SAME')\n",
    "    # Add bias\n",
    "    conv_layer = tf.nn.bias_add(conv_layer, bias)\n",
    "    # Apply activation function\n",
    "    conv_layer = tf.nn.relu(conv_layer)\n",
    "    \n",
    "    # Apply Max Pooling\n",
    "    conv_layer = tf.nn.max_pool(conv_layer, ksize=[1, pool_ksize[0], \n",
    "                    pool_ksize[1], 1], strides=[1, pool_strides[0], pool_strides[1], 1], padding='SAME')\n",
    "\n",
    "    return conv_layer \n",
    "\n",
    "\n",
    "\"\"\"\n",
    "DON'T MODIFY ANYTHING IN THIS CELL THAT IS BELOW THIS LINE\n",
    "\"\"\"\n",
    "tests.test_con_pool(conv2d_maxpool)"
   ]
  },
  {
   "cell_type": "markdown",
   "metadata": {},
   "source": [
    "### Flatten Layer\n",
    "Implement the `flatten` function to change the dimension of `x_tensor` from a 4-D tensor to a 2-D tensor.  The output should be the shape (*Batch Size*, *Flattened Image Size*). You can use [TensorFlow Layers](https://www.tensorflow.org/api_docs/python/tf/layers) or [TensorFlow Layers (contrib)](https://www.tensorflow.org/api_guides/python/contrib.layers) for this layer."
   ]
  },
  {
   "cell_type": "code",
   "execution_count": 9,
   "metadata": {
    "collapsed": false
   },
   "outputs": [
    {
     "name": "stdout",
     "output_type": "stream",
     "text": [
      "Tests Passed\n"
     ]
    }
   ],
   "source": [
    "def flatten(x_tensor):\n",
    "    \"\"\"\n",
    "    Flatten x_tensor to (Batch Size, Flattened Image Size)\n",
    "    : x_tensor: A tensor of size (Batch Size, ...), where ... are the image dimensions.\n",
    "    : return: A tensor of size (Batch Size, Flattened Image Size).\n",
    "    \"\"\"\n",
    "    # TODO: Implement Function\n",
    "    return tf.reshape(x_tensor,[-1,x_tensor.get_shape().as_list()[1]*x_tensor.get_shape().as_list()[2]*x_tensor.get_shape().as_list()[3]])\n",
    "\n",
    "\n",
    "\"\"\"\n",
    "DON'T MODIFY ANYTHING IN THIS CELL THAT IS BELOW THIS LINE\n",
    "\"\"\"\n",
    "tests.test_flatten(flatten)"
   ]
  },
  {
   "cell_type": "markdown",
   "metadata": {},
   "source": [
    "### Fully-Connected Layer\n",
    "Implement the `fully_conn` function to apply a fully connected layer to `x_tensor` with the shape (*Batch Size*, *num_outputs*). You can use [TensorFlow Layers](https://www.tensorflow.org/api_docs/python/tf/layers) or [TensorFlow Layers (contrib)](https://www.tensorflow.org/api_guides/python/contrib.layers) for this layer."
   ]
  },
  {
   "cell_type": "code",
   "execution_count": 10,
   "metadata": {
    "collapsed": false
   },
   "outputs": [
    {
     "name": "stdout",
     "output_type": "stream",
     "text": [
      "Tests Passed\n"
     ]
    }
   ],
   "source": [
    "def fully_conn(x_tensor, num_outputs):\n",
    "    \"\"\"\n",
    "    Apply a fully connected layer to x_tensor using weight and bias\n",
    "    : x_tensor: A 2-D tensor where the first dimension is batch size.\n",
    "    : num_outputs: The number of output that the new tensor should be.\n",
    "    : return: A 2-D tensor where the second dimension is num_outputs.\n",
    "    \"\"\"\n",
    "    # TODO: Implement Function\n",
    "    return tf.layers.dense(inputs=x_tensor, units=num_outputs, activation=tf.nn.relu)\n",
    "\n",
    "\n",
    "\"\"\"\n",
    "DON'T MODIFY ANYTHING IN THIS CELL THAT IS BELOW THIS LINE\n",
    "\"\"\"\n",
    "tests.test_fully_conn(fully_conn)"
   ]
  },
  {
   "cell_type": "markdown",
   "metadata": {},
   "source": [
    "### Output Layer\n",
    "Implement the `output` function to apply a fully connected layer to `x_tensor` with the shape (*Batch Size*, *num_outputs*). You can use [TensorFlow Layers](https://www.tensorflow.org/api_docs/python/tf/layers) or [TensorFlow Layers (contrib)](https://www.tensorflow.org/api_guides/python/contrib.layers) for this layer.\n",
    "\n",
    "Note: Activation, softmax, or cross entropy shouldn't be applied to this."
   ]
  },
  {
   "cell_type": "code",
   "execution_count": 11,
   "metadata": {
    "collapsed": false
   },
   "outputs": [
    {
     "name": "stdout",
     "output_type": "stream",
     "text": [
      "Tests Passed\n"
     ]
    }
   ],
   "source": [
    "def output(x_tensor, num_outputs):\n",
    "    \"\"\"\n",
    "    Apply a output layer to x_tensor using weight and bias\n",
    "    : x_tensor: A 2-D tensor where the first dimension is batch size.\n",
    "    : num_outputs: The number of output that the new tensor should be.\n",
    "    : return: A 2-D tensor where the second dimension is num_outputs.\n",
    "    \"\"\"\n",
    "    # TODO: Implement Function\n",
    "    return tf.layers.dense(inputs=x_tensor, units=num_outputs, activation=tf.nn.softmax)\n",
    "\n",
    "\n",
    "\"\"\"\n",
    "DON'T MODIFY ANYTHING IN THIS CELL THAT IS BELOW THIS LINE\n",
    "\"\"\"\n",
    "tests.test_output(output)"
   ]
  },
  {
   "cell_type": "markdown",
   "metadata": {},
   "source": [
    "### Create Convolutional Model\n",
    "Implement the function `conv_net` to create a convolutional neural network model. The function takes in a batch of images, `x`, and outputs logits.  Use the layers you created above to create this model:\n",
    "\n",
    "* Apply 1, 2, or 3 Convolution and Max Pool layers\n",
    "* Apply a Flatten Layer\n",
    "* Apply 1, 2, or 3 Fully Connected Layers\n",
    "* Apply an Output Layer\n",
    "* Return the output\n",
    "* Apply [TensorFlow's Dropout](https://www.tensorflow.org/api_docs/python/tf/nn/dropout) to one or more layers in the model using `keep_prob`. "
   ]
  },
  {
   "cell_type": "code",
   "execution_count": 12,
   "metadata": {
    "collapsed": false
   },
   "outputs": [
    {
     "name": "stdout",
     "output_type": "stream",
     "text": [
      "Neural Network Built!\n"
     ]
    }
   ],
   "source": [
    "def conv_net(x, keep_prob):\n",
    "    \"\"\"\n",
    "    Create a convolutional neural network model\n",
    "    : x: Placeholder tensor that holds image data.\n",
    "    : keep_prob: Placeholder tensor that hold dropout keep probability.\n",
    "    : return: Tensor that represents logits\n",
    "    \"\"\"\n",
    "    # TODO: Apply 1, 2, or 3 Convolution and Max Pool layers\n",
    "    #    Play around with different number of outputs, kernel size and stride\n",
    "    # Function Definition from Above:\n",
    "    #    conv2d_maxpool(x_tensor, conv_num_outputs, conv_ksize, conv_strides, pool_ksize, pool_strides)\n",
    "    conv2d_maxpool_layer1 = conv2d_maxpool(x, 64, \n",
    "                                           (5,5), (1,1),(3,3),(2,2))\n",
    "#    conv2d_maxpool_layer1 = tf.nn.dropout(conv2d_maxpool_layer1, keep_prob)\n",
    "    conv2d_maxpool_layer2 = conv2d_maxpool(conv2d_maxpool_layer1, 128, \n",
    "                                           (3,3), (1,1),(3,3),(2,2))\n",
    "#    conv2d_maxpool_layer2 = tf.nn.dropout(conv2d_maxpool_layer2, keep_prob)\n",
    "#    conv2d_maxpool_layer3 = conv2d_maxpool(conv2d_maxpool_layer2, 16, \n",
    "#                                           (3,3), (1,1),(2,2),(1,1))\n",
    "#    conv2d_maxpool_layer3 = tf.nn.dropout(conv2d_maxpool_layer3, keep_prob)\n",
    "\n",
    "\n",
    "    # TODO: Apply a Flatten Layer\n",
    "    # Function Definition from Above:\n",
    "    #   flatten(x_tensor)\n",
    "    flatten_tensor = flatten(conv2d_maxpool_layer1)\n",
    "\n",
    "    # TODO: Apply 1, 2, or 3 Fully Connected Layers\n",
    "    #    Play around with different number of outputs\n",
    "    # Function Definition from Above:\n",
    "    #   fully_conn(x_tensor, num_outputs)\n",
    "    dense_layer1 = fully_conn(flatten_tensor, 100)\n",
    "    dense_layer1 = tf.nn.dropout(dense_layer1, keep_prob)\n",
    "#    dense_layer2 = fully_conn(dense_layer1, 192)\n",
    "#    dense_layer2 = tf.nn.dropout(dense_layer2, keep_prob)\n",
    "#    dense_layer3 = fully_conn(dense_layer2, 20)\n",
    "\n",
    "    \n",
    "    # TODO: Apply an Output Layer\n",
    "    #    Set this to the number of classes\n",
    "    # Function Definition from Above:\n",
    "    #   output(x_tensor, num_outputs)\n",
    "    output_layer = output(dense_layer1,10)\n",
    "    \n",
    "    # TODO: return output\n",
    "    return output_layer\n",
    "\n",
    "\n",
    "\"\"\"\n",
    "DON'T MODIFY ANYTHING IN THIS CELL THAT IS BELOW THIS LINE\n",
    "\"\"\"\n",
    "\n",
    "##############################\n",
    "## Build the Neural Network ##\n",
    "##############################\n",
    "\n",
    "# Remove previous weights, bias, inputs, etc..\n",
    "tf.reset_default_graph()\n",
    "\n",
    "# Inputs\n",
    "x = neural_net_image_input((32, 32, 3))\n",
    "y = neural_net_label_input(10)\n",
    "keep_prob = neural_net_keep_prob_input()\n",
    "\n",
    "# Model\n",
    "logits = conv_net(x, keep_prob)\n",
    "\n",
    "# Name logits Tensor, so that is can be loaded from disk after training\n",
    "logits = tf.identity(logits, name='logits')\n",
    "\n",
    "# Loss and Optimizer\n",
    "cost = tf.reduce_mean(tf.nn.softmax_cross_entropy_with_logits(logits=logits, labels=y))\n",
    "optimizer = tf.train.AdamOptimizer().minimize(cost)\n",
    "\n",
    "# Accuracy\n",
    "correct_pred = tf.equal(tf.argmax(logits, 1), tf.argmax(y, 1))\n",
    "accuracy = tf.reduce_mean(tf.cast(correct_pred, tf.float32), name='accuracy')\n",
    "\n",
    "tests.test_conv_net(conv_net)"
   ]
  },
  {
   "cell_type": "markdown",
   "metadata": {},
   "source": [
    "## Train the Neural Network\n",
    "### Single Optimization\n",
    "Implement the function `train_neural_network` to do a single optimization.  The optimization should use `optimizer` to optimize in `session` with a `feed_dict` of the following:\n",
    "* `x` for image input\n",
    "* `y` for labels\n",
    "* `keep_prob` for keep probability for dropout\n",
    "\n",
    "This function will be called for each batch, so `tf.global_variables_initializer()` has already been called.\n",
    "\n",
    "Note: Nothing needs to be returned. This function is only optimizing the neural network."
   ]
  },
  {
   "cell_type": "code",
   "execution_count": 13,
   "metadata": {
    "collapsed": false
   },
   "outputs": [
    {
     "name": "stdout",
     "output_type": "stream",
     "text": [
      "Tests Passed\n"
     ]
    }
   ],
   "source": [
    "def train_neural_network(session, optimizer, keep_probability, feature_batch, label_batch):\n",
    "    \"\"\"\n",
    "    Optimize the session on a batch of images and labels\n",
    "    : session: Current TensorFlow session\n",
    "    : optimizer: TensorFlow optimizer function\n",
    "    : keep_probability: keep probability\n",
    "    : feature_batch: Batch of Numpy image data\n",
    "    : label_batch: Batch of Numpy label data\n",
    "    \"\"\"\n",
    "    # TODO: Implement Function\n",
    "    session.run(optimizer, feed_dict={\n",
    "                x: feature_batch,\n",
    "                y: label_batch,\n",
    "                keep_prob: 1.})\n",
    "\n",
    "\n",
    "\n",
    "\"\"\"\n",
    "DON'T MODIFY ANYTHING IN THIS CELL THAT IS BELOW THIS LINE\n",
    "\"\"\"\n",
    "tests.test_train_nn(train_neural_network)"
   ]
  },
  {
   "cell_type": "markdown",
   "metadata": {},
   "source": [
    "### Show Stats\n",
    "Implement the function `print_stats` to print loss and validation accuracy.  Use the global variables `valid_features` and `valid_labels` to calculate validation accuracy.  Use a keep probability of `1.0` to calculate the loss and validation accuracy."
   ]
  },
  {
   "cell_type": "code",
   "execution_count": 14,
   "metadata": {
    "collapsed": false
   },
   "outputs": [],
   "source": [
    "def print_stats(session, feature_batch, label_batch, cost, accuracy):\n",
    "    \"\"\"\n",
    "    Print information about loss and validation accuracy\n",
    "    : session: Current TensorFlow session\n",
    "    : feature_batch: Batch of Numpy image data\n",
    "    : label_batch: Batch of Numpy label data\n",
    "    : cost: TensorFlow cost function\n",
    "    : accuracy: TensorFlow accuracy function\n",
    "    \"\"\"\n",
    "    # TODO: Implement Function\n",
    "    print(\"Loss is {0} and accuracy is {1}\".format(\n",
    "        session.run(cost, feed_dict={x: feature_batch,y: label_batch,keep_prob: 1.}),\n",
    "        session.run(accuracy, feed_dict={x: valid_features,y: valid_labels,keep_prob: 1.})))"
   ]
  },
  {
   "cell_type": "markdown",
   "metadata": {},
   "source": [
    "### Hyperparameters\n",
    "Tune the following parameters:\n",
    "* Set `epochs` to the number of iterations until the network stops learning or start overfitting\n",
    "* Set `batch_size` to the highest number that your machine has memory for.  Most people set them to common sizes of memory:\n",
    " * 64\n",
    " * 128\n",
    " * 256\n",
    " * ...\n",
    "* Set `keep_probability` to the probability of keeping a node using dropout"
   ]
  },
  {
   "cell_type": "code",
   "execution_count": 15,
   "metadata": {
    "collapsed": true
   },
   "outputs": [],
   "source": [
    "# TODO: Tune Parameters\n",
    "epochs = 25\n",
    "batch_size = 128\n",
    "keep_probability = 0.5"
   ]
  },
  {
   "cell_type": "markdown",
   "metadata": {},
   "source": [
    "### Train on a Single CIFAR-10 Batch\n",
    "Instead of training the neural network on all the CIFAR-10 batches of data, let's use a single batch. This should save time while you iterate on the model to get a better accuracy.  Once the final validation accuracy is 50% or greater, run the model on all the data in the next section."
   ]
  },
  {
   "cell_type": "code",
   "execution_count": 16,
   "metadata": {
    "collapsed": false
   },
   "outputs": [
    {
     "name": "stdout",
     "output_type": "stream",
     "text": [
      "Checking the Training on a Single Batch...\n",
      "Epoch  1, CIFAR-10 Batch 1:  Loss is 2.199754238128662 and accuracy is 0.27639999985694885\n",
      "Epoch  2, CIFAR-10 Batch 1:  Loss is 2.0895023345947266 and accuracy is 0.3594000041484833\n",
      "Epoch  3, CIFAR-10 Batch 1:  Loss is 2.0068066120147705 and accuracy is 0.4156000018119812\n",
      "Epoch  4, CIFAR-10 Batch 1:  Loss is 1.9521369934082031 and accuracy is 0.44040000438690186\n",
      "Epoch  5, CIFAR-10 Batch 1:  Loss is 1.9375331401824951 and accuracy is 0.48559999465942383\n",
      "Epoch  6, CIFAR-10 Batch 1:  Loss is 1.9052143096923828 and accuracy is 0.4440000057220459\n",
      "Epoch  7, CIFAR-10 Batch 1:  Loss is 1.8378387689590454 and accuracy is 0.4814000129699707\n",
      "Epoch  8, CIFAR-10 Batch 1:  Loss is 1.8211934566497803 and accuracy is 0.4950000047683716\n",
      "Epoch  9, CIFAR-10 Batch 1:  Loss is 1.785447120666504 and accuracy is 0.5108000040054321\n",
      "Epoch 10, CIFAR-10 Batch 1:  Loss is 1.803540587425232 and accuracy is 0.526199996471405\n",
      "Epoch 11, CIFAR-10 Batch 1:  Loss is 1.7889602184295654 and accuracy is 0.5001999735832214\n",
      "Epoch 12, CIFAR-10 Batch 1:  Loss is 1.7754337787628174 and accuracy is 0.5175999999046326\n",
      "Epoch 13, CIFAR-10 Batch 1:  Loss is 1.7690426111221313 and accuracy is 0.5134000182151794\n",
      "Epoch 14, CIFAR-10 Batch 1:  Loss is 1.7663278579711914 and accuracy is 0.5008000135421753\n",
      "Epoch 15, CIFAR-10 Batch 1:  Loss is 1.7560384273529053 and accuracy is 0.526199996471405\n",
      "Epoch 16, CIFAR-10 Batch 1:  Loss is 1.7463973760604858 and accuracy is 0.5418000221252441\n",
      "Epoch 17, CIFAR-10 Batch 1:  Loss is 1.7402489185333252 and accuracy is 0.5242000222206116\n",
      "Epoch 18, CIFAR-10 Batch 1:  Loss is 1.7293376922607422 and accuracy is 0.5252000093460083\n",
      "Epoch 19, CIFAR-10 Batch 1:  Loss is 1.7122974395751953 and accuracy is 0.524399995803833\n",
      "Epoch 20, CIFAR-10 Batch 1:  Loss is 1.6985280513763428 and accuracy is 0.517799973487854\n",
      "Epoch 21, CIFAR-10 Batch 1:  Loss is 1.6978508234024048 and accuracy is 0.5121999979019165\n",
      "Epoch 22, CIFAR-10 Batch 1:  Loss is 1.691884994506836 and accuracy is 0.5224000215530396\n",
      "Epoch 23, CIFAR-10 Batch 1:  Loss is 1.707484483718872 and accuracy is 0.5320000052452087\n",
      "Epoch 24, CIFAR-10 Batch 1:  Loss is 1.6914409399032593 and accuracy is 0.5317999720573425\n",
      "Epoch 25, CIFAR-10 Batch 1:  Loss is 1.6673004627227783 and accuracy is 0.504800021648407\n"
     ]
    }
   ],
   "source": [
    "\"\"\"\n",
    "DON'T MODIFY ANYTHING IN THIS CELL\n",
    "\"\"\"\n",
    "print('Checking the Training on a Single Batch...')\n",
    "with tf.Session() as sess:\n",
    "    # Initializing the variables\n",
    "    sess.run(tf.global_variables_initializer())\n",
    "    \n",
    "    # Training cycle\n",
    "    for epoch in range(epochs):\n",
    "        batch_i = 1\n",
    "        for batch_features, batch_labels in helper.load_preprocess_training_batch(batch_i, batch_size):\n",
    "            train_neural_network(sess, optimizer, keep_probability, batch_features, batch_labels)\n",
    "        print('Epoch {:>2}, CIFAR-10 Batch {}:  '.format(epoch + 1, batch_i), end='')\n",
    "        print_stats(sess, batch_features, batch_labels, cost, accuracy)"
   ]
  },
  {
   "cell_type": "markdown",
   "metadata": {},
   "source": [
    "### Fully Train the Model\n",
    "Now that you got a good accuracy with a single CIFAR-10 batch, try it with all five batches."
   ]
  },
  {
   "cell_type": "code",
   "execution_count": 184,
   "metadata": {
    "collapsed": false
   },
   "outputs": [
    {
     "name": "stdout",
     "output_type": "stream",
     "text": [
      "Training...\n",
      "Epoch  1, CIFAR-10 Batch 1:  Loss is 2.2305667400360107 and accuracy is 0.28060001134872437\n",
      "Epoch  1, CIFAR-10 Batch 2:  Loss is 2.1119017601013184 and accuracy is 0.32499998807907104\n",
      "Epoch  1, CIFAR-10 Batch 3:  Loss is 1.9762916564941406 and accuracy is 0.42480000853538513\n",
      "Epoch  1, CIFAR-10 Batch 4:  Loss is 2.065682888031006 and accuracy is 0.42719998955726624\n",
      "Epoch  1, CIFAR-10 Batch 5:  Loss is 2.0604355335235596 and accuracy is 0.42660000920295715\n",
      "Epoch  2, CIFAR-10 Batch 1:  Loss is 2.0483593940734863 and accuracy is 0.44940000772476196\n",
      "Epoch  2, CIFAR-10 Batch 2:  Loss is 2.0203232765197754 and accuracy is 0.45980000495910645\n",
      "Epoch  2, CIFAR-10 Batch 3:  Loss is 1.987666368484497 and accuracy is 0.45019999146461487\n",
      "Epoch  2, CIFAR-10 Batch 4:  Loss is 2.000345230102539 and accuracy is 0.4458000063896179\n",
      "Epoch  2, CIFAR-10 Batch 5:  Loss is 1.9954725503921509 and accuracy is 0.4618000090122223\n",
      "Epoch  3, CIFAR-10 Batch 1:  Loss is 1.9972445964813232 and accuracy is 0.4564000070095062\n",
      "Epoch  3, CIFAR-10 Batch 2:  Loss is 1.9841728210449219 and accuracy is 0.4749999940395355\n",
      "Epoch  3, CIFAR-10 Batch 3:  Loss is 1.935251235961914 and accuracy is 0.4657999873161316\n",
      "Epoch  3, CIFAR-10 Batch 4:  Loss is 1.9847614765167236 and accuracy is 0.47040000557899475\n",
      "Epoch  3, CIFAR-10 Batch 5:  Loss is 1.9419180154800415 and accuracy is 0.47839999198913574\n",
      "Epoch  4, CIFAR-10 Batch 1:  Loss is 1.9354664087295532 and accuracy is 0.47519999742507935\n",
      "Epoch  4, CIFAR-10 Batch 2:  Loss is 1.9330737590789795 and accuracy is 0.4796000123023987\n",
      "Epoch  4, CIFAR-10 Batch 3:  Loss is 1.897726058959961 and accuracy is 0.4722000062465668\n",
      "Epoch  4, CIFAR-10 Batch 4:  Loss is 1.955773115158081 and accuracy is 0.4742000102996826\n",
      "Epoch  4, CIFAR-10 Batch 5:  Loss is 1.899706244468689 and accuracy is 0.48260000348091125\n",
      "Epoch  5, CIFAR-10 Batch 1:  Loss is 1.9121620655059814 and accuracy is 0.48820000886917114\n",
      "Epoch  5, CIFAR-10 Batch 2:  Loss is 1.9108479022979736 and accuracy is 0.4966000020503998\n",
      "Epoch  5, CIFAR-10 Batch 3:  Loss is 1.8936665058135986 and accuracy is 0.48399999737739563\n",
      "Epoch  5, CIFAR-10 Batch 4:  Loss is 1.9588117599487305 and accuracy is 0.46459999680519104\n",
      "Epoch  5, CIFAR-10 Batch 5:  Loss is 1.8681395053863525 and accuracy is 0.49939998984336853\n",
      "Epoch  6, CIFAR-10 Batch 1:  Loss is 1.8665897846221924 and accuracy is 0.4796000123023987\n",
      "Epoch  6, CIFAR-10 Batch 2:  Loss is 1.9068489074707031 and accuracy is 0.4880000054836273\n",
      "Epoch  6, CIFAR-10 Batch 3:  Loss is 1.8882262706756592 and accuracy is 0.48579999804496765\n",
      "Epoch  6, CIFAR-10 Batch 4:  Loss is 1.9279773235321045 and accuracy is 0.4936000108718872\n",
      "Epoch  6, CIFAR-10 Batch 5:  Loss is 1.8701633214950562 and accuracy is 0.5045999884605408\n",
      "Epoch  7, CIFAR-10 Batch 1:  Loss is 1.8638957738876343 and accuracy is 0.4909999966621399\n",
      "Epoch  7, CIFAR-10 Batch 2:  Loss is 1.9029896259307861 and accuracy is 0.4909999966621399\n",
      "Epoch  7, CIFAR-10 Batch 3:  Loss is 1.8961601257324219 and accuracy is 0.4796000123023987\n",
      "Epoch  7, CIFAR-10 Batch 4:  Loss is 1.934827446937561 and accuracy is 0.47279998660087585\n",
      "Epoch  7, CIFAR-10 Batch 5:  Loss is 1.8622941970825195 and accuracy is 0.5085999965667725\n",
      "Epoch  8, CIFAR-10 Batch 1:  Loss is 1.8621320724487305 and accuracy is 0.4832000136375427\n",
      "Epoch  8, CIFAR-10 Batch 2:  Loss is 1.89214289188385 and accuracy is 0.4991999864578247\n",
      "Epoch  8, CIFAR-10 Batch 3:  Loss is 1.8974602222442627 and accuracy is 0.5109999775886536\n",
      "Epoch  8, CIFAR-10 Batch 4:  Loss is 1.9124199151992798 and accuracy is 0.4733999967575073\n",
      "Epoch  8, CIFAR-10 Batch 5:  Loss is 1.8653841018676758 and accuracy is 0.4966000020503998\n",
      "Epoch  9, CIFAR-10 Batch 1:  Loss is 1.8605514764785767 and accuracy is 0.498199999332428\n",
      "Epoch  9, CIFAR-10 Batch 2:  Loss is 1.9058959484100342 and accuracy is 0.483599990606308\n",
      "Epoch  9, CIFAR-10 Batch 3:  Loss is 1.868707299232483 and accuracy is 0.4936000108718872\n",
      "Epoch  9, CIFAR-10 Batch 4:  Loss is 1.8903080224990845 and accuracy is 0.5099999904632568\n",
      "Epoch  9, CIFAR-10 Batch 5:  Loss is 1.8593580722808838 and accuracy is 0.5062000155448914\n",
      "Epoch 10, CIFAR-10 Batch 1:  Loss is 1.8578922748565674 and accuracy is 0.5005999803543091\n",
      "Epoch 10, CIFAR-10 Batch 2:  Loss is 1.8812665939331055 and accuracy is 0.5044000148773193\n",
      "Epoch 10, CIFAR-10 Batch 3:  Loss is 1.8606903553009033 and accuracy is 0.5012000203132629\n",
      "Epoch 10, CIFAR-10 Batch 4:  Loss is 1.8986059427261353 and accuracy is 0.4984000027179718\n",
      "Epoch 10, CIFAR-10 Batch 5:  Loss is 1.856008768081665 and accuracy is 0.5113999843597412\n",
      "Epoch 11, CIFAR-10 Batch 1:  Loss is 1.854623794555664 and accuracy is 0.49779999256134033\n",
      "Epoch 11, CIFAR-10 Batch 2:  Loss is 1.881532907485962 and accuracy is 0.49720001220703125\n",
      "Epoch 11, CIFAR-10 Batch 3:  Loss is 1.8603662252426147 and accuracy is 0.5130000114440918\n",
      "Epoch 11, CIFAR-10 Batch 4:  Loss is 1.889350175857544 and accuracy is 0.5054000020027161\n",
      "Epoch 11, CIFAR-10 Batch 5:  Loss is 1.8582977056503296 and accuracy is 0.5022000074386597\n",
      "Epoch 12, CIFAR-10 Batch 1:  Loss is 1.8390640020370483 and accuracy is 0.5045999884605408\n",
      "Epoch 12, CIFAR-10 Batch 2:  Loss is 1.8768001794815063 and accuracy is 0.49779999256134033\n",
      "Epoch 12, CIFAR-10 Batch 3:  Loss is 1.8580787181854248 and accuracy is 0.5130000114440918\n",
      "Epoch 12, CIFAR-10 Batch 4:  Loss is 1.8995888233184814 and accuracy is 0.4912000000476837\n",
      "Epoch 12, CIFAR-10 Batch 5:  Loss is 1.8588924407958984 and accuracy is 0.5148000121116638\n",
      "Epoch 13, CIFAR-10 Batch 1:  Loss is 1.8399770259857178 and accuracy is 0.5023999810218811\n",
      "Epoch 13, CIFAR-10 Batch 2:  Loss is 1.853416085243225 and accuracy is 0.49959999322891235\n",
      "Epoch 13, CIFAR-10 Batch 3:  Loss is 1.8580493927001953 and accuracy is 0.5127999782562256\n",
      "Epoch 13, CIFAR-10 Batch 4:  Loss is 1.9082362651824951 and accuracy is 0.5058000087738037\n",
      "Epoch 13, CIFAR-10 Batch 5:  Loss is 1.860970139503479 and accuracy is 0.515999972820282\n",
      "Epoch 14, CIFAR-10 Batch 1:  Loss is 1.822777509689331 and accuracy is 0.5138000249862671\n",
      "Epoch 14, CIFAR-10 Batch 2:  Loss is 1.8367801904678345 and accuracy is 0.5019999742507935\n",
      "Epoch 14, CIFAR-10 Batch 3:  Loss is 1.8788896799087524 and accuracy is 0.5045999884605408\n",
      "Epoch 14, CIFAR-10 Batch 4:  Loss is 1.9007364511489868 and accuracy is 0.5034000277519226\n",
      "Epoch 14, CIFAR-10 Batch 5:  Loss is 1.8592637777328491 and accuracy is 0.5139999985694885\n",
      "Epoch 15, CIFAR-10 Batch 1:  Loss is 1.8080661296844482 and accuracy is 0.5121999979019165\n",
      "Epoch 15, CIFAR-10 Batch 2:  Loss is 1.8373212814331055 and accuracy is 0.49219998717308044\n",
      "Epoch 15, CIFAR-10 Batch 3:  Loss is 1.8628075122833252 and accuracy is 0.5212000012397766\n",
      "Epoch 15, CIFAR-10 Batch 4:  Loss is 1.8327934741973877 and accuracy is 0.5460000038146973\n",
      "Epoch 15, CIFAR-10 Batch 5:  Loss is 1.8005123138427734 and accuracy is 0.5541999936103821\n",
      "Epoch 16, CIFAR-10 Batch 1:  Loss is 1.762864351272583 and accuracy is 0.5562000274658203\n",
      "Epoch 16, CIFAR-10 Batch 2:  Loss is 1.7558724880218506 and accuracy is 0.5483999848365784\n",
      "Epoch 16, CIFAR-10 Batch 3:  Loss is 1.8368316888809204 and accuracy is 0.5472000241279602\n",
      "Epoch 16, CIFAR-10 Batch 4:  Loss is 1.813483476638794 and accuracy is 0.5667999982833862\n",
      "Epoch 16, CIFAR-10 Batch 5:  Loss is 1.7643344402313232 and accuracy is 0.5546000003814697\n",
      "Epoch 17, CIFAR-10 Batch 1:  Loss is 1.7620195150375366 and accuracy is 0.5669999718666077\n",
      "Epoch 17, CIFAR-10 Batch 2:  Loss is 1.7184667587280273 and accuracy is 0.5612000226974487\n",
      "Epoch 17, CIFAR-10 Batch 3:  Loss is 1.8119109869003296 and accuracy is 0.5608000159263611\n",
      "Epoch 17, CIFAR-10 Batch 4:  Loss is 1.8108446598052979 and accuracy is 0.5645999908447266\n",
      "Epoch 17, CIFAR-10 Batch 5:  Loss is 1.7776086330413818 and accuracy is 0.5680000185966492\n",
      "Epoch 18, CIFAR-10 Batch 1:  Loss is 1.7648963928222656 and accuracy is 0.5616000294685364\n",
      "Epoch 18, CIFAR-10 Batch 2:  Loss is 1.7282638549804688 and accuracy is 0.5655999779701233\n",
      "Epoch 18, CIFAR-10 Batch 3:  Loss is 1.7901554107666016 and accuracy is 0.5753999948501587\n",
      "Epoch 18, CIFAR-10 Batch 4:  Loss is 1.8092834949493408 and accuracy is 0.5705999732017517\n",
      "Epoch 18, CIFAR-10 Batch 5:  Loss is 1.7324167490005493 and accuracy is 0.5824000239372253\n",
      "Epoch 19, CIFAR-10 Batch 1:  Loss is 1.7612262964248657 and accuracy is 0.5600000023841858\n",
      "Epoch 19, CIFAR-10 Batch 2:  Loss is 1.7117542028427124 and accuracy is 0.5722000002861023\n",
      "Epoch 19, CIFAR-10 Batch 3:  Loss is 1.7870689630508423 and accuracy is 0.5735999941825867\n",
      "Epoch 19, CIFAR-10 Batch 4:  Loss is 1.8146530389785767 and accuracy is 0.5709999799728394\n",
      "Epoch 19, CIFAR-10 Batch 5:  Loss is 1.7358840703964233 and accuracy is 0.579800009727478\n",
      "Epoch 20, CIFAR-10 Batch 1:  Loss is 1.7817882299423218 and accuracy is 0.5659999847412109\n",
      "Epoch 20, CIFAR-10 Batch 2:  Loss is 1.7127511501312256 and accuracy is 0.5667999982833862\n",
      "Epoch 20, CIFAR-10 Batch 3:  Loss is 1.7850511074066162 and accuracy is 0.579200029373169\n",
      "Epoch 20, CIFAR-10 Batch 4:  Loss is 1.810965895652771 and accuracy is 0.5663999915122986\n",
      "Epoch 20, CIFAR-10 Batch 5:  Loss is 1.7357889413833618 and accuracy is 0.5795999765396118\n",
      "Epoch 21, CIFAR-10 Batch 1:  Loss is 1.7602927684783936 and accuracy is 0.5771999955177307\n",
      "Epoch 21, CIFAR-10 Batch 2:  Loss is 1.7169923782348633 and accuracy is 0.5740000009536743\n",
      "Epoch 21, CIFAR-10 Batch 3:  Loss is 1.7846828699111938 and accuracy is 0.5777999758720398\n",
      "Epoch 21, CIFAR-10 Batch 4:  Loss is 1.7799440622329712 and accuracy is 0.5569999814033508\n",
      "Epoch 21, CIFAR-10 Batch 5:  Loss is 1.735395073890686 and accuracy is 0.5809999704360962\n",
      "Epoch 22, CIFAR-10 Batch 1:  Loss is 1.7618560791015625 and accuracy is 0.5745999813079834\n",
      "Epoch 22, CIFAR-10 Batch 2:  Loss is 1.7089000940322876 and accuracy is 0.569599986076355\n",
      "Epoch 22, CIFAR-10 Batch 3:  Loss is 1.7818399667739868 and accuracy is 0.5910000205039978\n",
      "Epoch 22, CIFAR-10 Batch 4:  Loss is 1.6971046924591064 and accuracy is 0.590399980545044\n",
      "Epoch 22, CIFAR-10 Batch 5:  Loss is 1.6455333232879639 and accuracy is 0.6132000088691711\n",
      "Epoch 23, CIFAR-10 Batch 1:  Loss is 1.7062041759490967 and accuracy is 0.5920000076293945\n",
      "Epoch 23, CIFAR-10 Batch 2:  Loss is 1.706597089767456 and accuracy is 0.605400025844574\n",
      "Epoch 23, CIFAR-10 Batch 3:  Loss is 1.7364943027496338 and accuracy is 0.6118000149726868\n",
      "Epoch 23, CIFAR-10 Batch 4:  Loss is 1.6628296375274658 and accuracy is 0.6146000027656555\n",
      "Epoch 23, CIFAR-10 Batch 5:  Loss is 1.6336921453475952 and accuracy is 0.6186000108718872\n",
      "Epoch 24, CIFAR-10 Batch 1:  Loss is 1.6992934942245483 and accuracy is 0.6060000061988831\n",
      "Epoch 24, CIFAR-10 Batch 2:  Loss is 1.6758559942245483 and accuracy is 0.6133999824523926\n",
      "Epoch 24, CIFAR-10 Batch 3:  Loss is 1.7309707403182983 and accuracy is 0.6075999736785889\n",
      "Epoch 24, CIFAR-10 Batch 4:  Loss is 1.666053056716919 and accuracy is 0.6195999979972839\n",
      "Epoch 24, CIFAR-10 Batch 5:  Loss is 1.6507686376571655 and accuracy is 0.6255999803543091\n",
      "Epoch 25, CIFAR-10 Batch 1:  Loss is 1.6935619115829468 and accuracy is 0.6146000027656555\n",
      "Epoch 25, CIFAR-10 Batch 2:  Loss is 1.665876030921936 and accuracy is 0.6151999831199646\n",
      "Epoch 25, CIFAR-10 Batch 3:  Loss is 1.7145572900772095 and accuracy is 0.6233999729156494\n",
      "Epoch 25, CIFAR-10 Batch 4:  Loss is 1.662289023399353 and accuracy is 0.6223999857902527\n",
      "Epoch 25, CIFAR-10 Batch 5:  Loss is 1.6183913946151733 and accuracy is 0.6281999945640564\n"
     ]
    }
   ],
   "source": [
    "\"\"\"\n",
    "DON'T MODIFY ANYTHING IN THIS CELL\n",
    "\"\"\"\n",
    "save_model_path = './image_classification'\n",
    "\n",
    "print('Training...')\n",
    "with tf.Session() as sess:\n",
    "    # Initializing the variables\n",
    "    sess.run(tf.global_variables_initializer())\n",
    "    \n",
    "    # Training cycle\n",
    "    for epoch in range(epochs):\n",
    "        # Loop over all batches\n",
    "        n_batches = 5\n",
    "        for batch_i in range(1, n_batches + 1):\n",
    "            for batch_features, batch_labels in helper.load_preprocess_training_batch(batch_i, batch_size):\n",
    "                train_neural_network(sess, optimizer, keep_probability, batch_features, batch_labels)\n",
    "            print('Epoch {:>2}, CIFAR-10 Batch {}:  '.format(epoch + 1, batch_i), end='')\n",
    "            print_stats(sess, batch_features, batch_labels, cost, accuracy)\n",
    "            \n",
    "    # Save Model\n",
    "    saver = tf.train.Saver()\n",
    "    save_path = saver.save(sess, save_model_path)"
   ]
  },
  {
   "cell_type": "markdown",
   "metadata": {},
   "source": [
    "# Checkpoint\n",
    "The model has been saved to disk.\n",
    "## Test Model\n",
    "Test your model against the test dataset.  This will be your final accuracy. You should have an accuracy greater than 50%. If you don't, keep tweaking the model architecture and parameters."
   ]
  },
  {
   "cell_type": "code",
   "execution_count": 17,
   "metadata": {
    "collapsed": false
   },
   "outputs": [
    {
     "name": "stdout",
     "output_type": "stream",
     "text": [
      "Testing Accuracy: 0.6112539556962026\n",
      "\n"
     ]
    },
    {
     "data": {
      "image/png": "[encoded data removed]",
      "text/plain": [
       "<matplotlib.figure.Figure at 0x7f790865ae48>"
      ]
     },
     "metadata": {
      "image/png": {
       "height": 319,
       "width": 355
      }
     },
     "output_type": "display_data"
    }
   ],
   "source": [
    "\"\"\"\n",
    "DON'T MODIFY ANYTHING IN THIS CELL\n",
    "\"\"\"\n",
    "%matplotlib inline\n",
    "%config InlineBackend.figure_format = 'retina'\n",
    "\n",
    "import tensorflow as tf\n",
    "import pickle\n",
    "import helper\n",
    "import random\n",
    "\n",
    "# Set batch size if not already set\n",
    "try:\n",
    "    if batch_size:\n",
    "        pass\n",
    "except NameError:\n",
    "    batch_size = 64\n",
    "\n",
    "save_model_path = './image_classification'\n",
    "n_samples = 4\n",
    "top_n_predictions = 3\n",
    "\n",
    "def test_model():\n",
    "    \"\"\"\n",
    "    Test the saved model against the test dataset\n",
    "    \"\"\"\n",
    "\n",
    "    test_features, test_labels = pickle.load(open('preprocess_training.p', mode='rb'))\n",
    "    loaded_graph = tf.Graph()\n",
    "\n",
    "    with tf.Session(graph=loaded_graph) as sess:\n",
    "        # Load model\n",
    "        loader = tf.train.import_meta_graph(save_model_path + '.meta')\n",
    "        loader.restore(sess, save_model_path)\n",
    "\n",
    "        # Get Tensors from loaded model\n",
    "        loaded_x = loaded_graph.get_tensor_by_name('x:0')\n",
    "        loaded_y = loaded_graph.get_tensor_by_name('y:0')\n",
    "        loaded_keep_prob = loaded_graph.get_tensor_by_name('keep_prob:0')\n",
    "        loaded_logits = loaded_graph.get_tensor_by_name('logits:0')\n",
    "        loaded_acc = loaded_graph.get_tensor_by_name('accuracy:0')\n",
    "        \n",
    "        # Get accuracy in batches for memory limitations\n",
    "        test_batch_acc_total = 0\n",
    "        test_batch_count = 0\n",
    "        \n",
    "        for train_feature_batch, train_label_batch in helper.batch_features_labels(test_features, test_labels, batch_size):\n",
    "            test_batch_acc_total += sess.run(\n",
    "                loaded_acc,\n",
    "                feed_dict={loaded_x: train_feature_batch, loaded_y: train_label_batch, loaded_keep_prob: 1.0})\n",
    "            test_batch_count += 1\n",
    "\n",
    "        print('Testing Accuracy: {}\\n'.format(test_batch_acc_total/test_batch_count))\n",
    "\n",
    "        # Print Random Samples\n",
    "        random_test_features, random_test_labels = tuple(zip(*random.sample(list(zip(test_features, test_labels)), n_samples)))\n",
    "        random_test_predictions = sess.run(\n",
    "            tf.nn.top_k(tf.nn.softmax(loaded_logits), top_n_predictions),\n",
    "            feed_dict={loaded_x: random_test_features, loaded_y: random_test_labels, loaded_keep_prob: 1.0})\n",
    "        helper.display_image_predictions(random_test_features, random_test_labels, random_test_predictions)\n",
    "\n",
    "\n",
    "test_model()"
   ]
  },
  {
   "cell_type": "markdown",
   "metadata": {},
   "source": [
    "## Why 50-70% Accuracy?\n",
    "You might be wondering why you can't get an accuracy any higher. First things first, 50% isn't bad for a simple CNN.  Pure guessing would get you 10% accuracy. However, you might notice people are getting scores [well above 70%](http://rodrigob.github.io/are_we_there_yet/build/classification_datasets_results.html#43494641522d3130).  That's because we haven't taught you all there is to know about neural networks. We still need to cover a few more techniques.\n",
    "## Submitting This Project\n",
    "When submitting this project, make sure to run all the cells before saving the notebook.  Save the notebook file as \"dlnd_image_classification.ipynb\" and save it as a HTML file under \"File\" -> \"Download as\".  Include the \"helper.py\" and \"problem_unittests.py\" files in your submission."
   ]
  }
 ],
 "metadata": {
  "kernelspec": {
   "display_name": "Python 3",
   "language": "python",
   "name": "python3"
  },
  "language_info": {
   "codemirror_mode": {
    "name": "ipython",
    "version": 3
   },
   "file_extension": ".py",
   "mimetype": "text/x-python",
   "name": "python",
   "nbconvert_exporter": "python",
   "pygments_lexer": "ipython3",
   "version": "3.5.3"
  }
 },
 "nbformat": 4,
 "nbformat_minor": 0
}
